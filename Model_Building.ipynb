{
 "cells": [
  {
   "cell_type": "code",
   "execution_count": 110,
   "metadata": {
    "ExecuteTime": {
     "end_time": "2020-07-23T16:50:49.401628Z",
     "start_time": "2020-07-23T16:50:49.395853Z"
    }
   },
   "outputs": [],
   "source": [
    "import pandas as pd\n",
    "import numpy as np\n",
    "import matplotlib.pyplot as plt\n",
    "import seaborn as sns\n",
    "import missingno as msno\n",
    "import pandas_profiling\n",
    "from sklearn.preprocessing import OneHotEncoder"
   ]
  },
  {
   "cell_type": "code",
   "execution_count": 111,
   "metadata": {
    "ExecuteTime": {
     "end_time": "2020-07-23T16:50:50.748420Z",
     "start_time": "2020-07-23T16:50:50.722541Z"
    }
   },
   "outputs": [],
   "source": [
    "df = pd.read_csv('Dataset/Train.csv')\n",
    "df_test = pd.read_csv('Dataset/Test.csv')"
   ]
  },
  {
   "cell_type": "code",
   "execution_count": 112,
   "metadata": {
    "ExecuteTime": {
     "end_time": "2020-07-23T16:50:51.940521Z",
     "start_time": "2020-07-23T16:50:51.934718Z"
    }
   },
   "outputs": [
    {
     "data": {
      "text/plain": [
       "(5763, 8)"
      ]
     },
     "execution_count": 112,
     "metadata": {},
     "output_type": "execute_result"
    }
   ],
   "source": [
    "df_test.shape"
   ]
  },
  {
   "cell_type": "code",
   "execution_count": 113,
   "metadata": {
    "ExecuteTime": {
     "end_time": "2020-07-23T16:50:53.165960Z",
     "start_time": "2020-07-23T16:50:53.159791Z"
    }
   },
   "outputs": [],
   "source": [
    "df.drop(['Item_Id'], axis= 1, inplace=True)\n",
    "df_test.drop(['Item_Id'], axis= 1, inplace=True)"
   ]
  },
  {
   "cell_type": "code",
   "execution_count": 114,
   "metadata": {
    "ExecuteTime": {
     "end_time": "2020-07-23T16:50:54.367292Z",
     "start_time": "2020-07-23T16:50:54.353676Z"
    }
   },
   "outputs": [],
   "source": [
    "df['Year'] = pd.to_datetime(df.Date).dt.year\n",
    "df_test['Year'] = pd.to_datetime(df_test.Date).dt.year"
   ]
  },
  {
   "cell_type": "code",
   "execution_count": 115,
   "metadata": {
    "ExecuteTime": {
     "end_time": "2020-07-23T16:50:55.582996Z",
     "start_time": "2020-07-23T16:50:55.574253Z"
    }
   },
   "outputs": [],
   "source": [
    "df.drop(['Date'], axis= 1, inplace=True)\n",
    "df_test.drop(['Date'], axis= 1, inplace=True)"
   ]
  },
  {
   "cell_type": "code",
   "execution_count": 116,
   "metadata": {
    "ExecuteTime": {
     "end_time": "2020-07-23T16:50:56.704981Z",
     "start_time": "2020-07-23T16:50:56.681766Z"
    }
   },
   "outputs": [],
   "source": [
    "top_mktcat = df.Market_Category.value_counts()[:50]\n",
    "\n",
    "df['Market_Category_Updated'] = df['Market_Category'].apply(lambda x: str(x) if x in top_mktcat else 'others')\n",
    "df_test['Market_Category_Updated'] = df_test['Market_Category'].apply(lambda x: str(x) if x in top_mktcat else 'others')"
   ]
  },
  {
   "cell_type": "code",
   "execution_count": 117,
   "metadata": {
    "ExecuteTime": {
     "end_time": "2020-07-23T16:50:57.928612Z",
     "start_time": "2020-07-23T16:50:57.892531Z"
    }
   },
   "outputs": [],
   "source": [
    "df.State_of_Country = df.State_of_Country.astype(str)#.astype('category')\n",
    "df.Market_Category = df.Market_Category.astype(str)#.astype('category')\n",
    "df.Product_Category = df.Product_Category.astype(str)#.astype('category')\n",
    "\n",
    "df_test.State_of_Country = df_test.State_of_Country.astype(str)#.astype('category')\n",
    "df_test.Market_Category = df_test.Market_Category.astype(str)#.astype('category')\n",
    "df_test.Product_Category = df_test.Product_Category.astype(str)#.astype('category')"
   ]
  },
  {
   "cell_type": "code",
   "execution_count": 118,
   "metadata": {
    "ExecuteTime": {
     "end_time": "2020-07-23T16:50:59.125196Z",
     "start_time": "2020-07-23T16:50:59.118245Z"
    }
   },
   "outputs": [],
   "source": [
    "df['Demand_Log'] = np.log(df['Demand']+1)\n",
    "df_test['Demand_Log'] = np.log(df_test['Demand']+1)"
   ]
  },
  {
   "cell_type": "code",
   "execution_count": 119,
   "metadata": {
    "ExecuteTime": {
     "end_time": "2020-07-23T16:51:00.413376Z",
     "start_time": "2020-07-23T16:51:00.403053Z"
    }
   },
   "outputs": [],
   "source": [
    "df.drop(['Market_Category', 'Demand'], inplace=True, axis=1)\n",
    "df_test.drop(['Market_Category', 'Demand'], inplace=True, axis=1)"
   ]
  },
  {
   "cell_type": "code",
   "execution_count": 120,
   "metadata": {
    "ExecuteTime": {
     "end_time": "2020-07-23T16:51:01.565168Z",
     "start_time": "2020-07-23T16:51:01.559399Z"
    }
   },
   "outputs": [
    {
     "data": {
      "text/plain": [
       "State_of_Country            object\n",
       "Product_Category            object\n",
       "Grade                        int64\n",
       "Low_Cap_Price                int64\n",
       "High_Cap_Price               int64\n",
       "Year                         int64\n",
       "Market_Category_Updated     object\n",
       "Demand_Log                 float64\n",
       "dtype: object"
      ]
     },
     "execution_count": 120,
     "metadata": {},
     "output_type": "execute_result"
    }
   ],
   "source": [
    "df.dtypes"
   ]
  },
  {
   "cell_type": "code",
   "execution_count": 121,
   "metadata": {
    "ExecuteTime": {
     "end_time": "2020-07-23T16:51:02.731913Z",
     "start_time": "2020-07-23T16:51:02.725585Z"
    }
   },
   "outputs": [
    {
     "data": {
      "text/plain": [
       "State_of_Country            object\n",
       "Product_Category            object\n",
       "Grade                        int64\n",
       "High_Cap_Price               int64\n",
       "Year                         int64\n",
       "Market_Category_Updated     object\n",
       "Demand_Log                 float64\n",
       "dtype: object"
      ]
     },
     "execution_count": 121,
     "metadata": {},
     "output_type": "execute_result"
    }
   ],
   "source": [
    "df_test.dtypes"
   ]
  },
  {
   "cell_type": "code",
   "execution_count": 122,
   "metadata": {
    "ExecuteTime": {
     "end_time": "2020-07-23T16:51:04.275884Z",
     "start_time": "2020-07-23T16:51:04.272936Z"
    }
   },
   "outputs": [],
   "source": [
    "categorical = ['State_of_Country', 'Product_Category', 'Market_Category_Updated']\n",
    "categorical_idx = [0,1,6]"
   ]
  },
  {
   "cell_type": "code",
   "execution_count": 123,
   "metadata": {
    "ExecuteTime": {
     "end_time": "2020-07-23T16:51:07.397386Z",
     "start_time": "2020-07-23T16:51:07.330341Z"
    }
   },
   "outputs": [],
   "source": [
    "for col in categorical:\n",
    "    i = df.columns.tolist().index(col)\n",
    "    enc = OneHotEncoder(categories='auto', sparse = False, handle_unknown='ignore').fit(df.iloc[:,[i]])\n",
    "    \n",
    "    temp = pd.DataFrame(enc.transform(df.iloc[:,[i]]))\n",
    "    df = pd.concat([df, temp], axis = 1)\n",
    "    \n",
    "    i_test = df_test.columns.tolist().index(col)\n",
    "    temp = pd.DataFrame(enc.transform(df_test.iloc[:,[i_test]]))\n",
    "    df_test = pd.concat([df_test, temp], axis = 1)"
   ]
  },
  {
   "cell_type": "code",
   "execution_count": 124,
   "metadata": {
    "ExecuteTime": {
     "end_time": "2020-07-23T16:51:09.114211Z",
     "start_time": "2020-07-23T16:51:09.088644Z"
    }
   },
   "outputs": [],
   "source": [
    "df.drop(['State_of_Country', 'Product_Category', 'Market_Category_Updated'], inplace=True, axis=1)\n",
    "df_test.drop(['State_of_Country', 'Product_Category', 'Market_Category_Updated'], inplace=True, axis=1)"
   ]
  },
  {
   "cell_type": "code",
   "execution_count": 125,
   "metadata": {
    "ExecuteTime": {
     "end_time": "2020-07-23T16:51:10.690577Z",
     "start_time": "2020-07-23T16:51:10.682633Z"
    }
   },
   "outputs": [],
   "source": [
    "df_Y = df.loc[:,'Low_Cap_Price'].copy()\n",
    "df_X = df.drop(['Low_Cap_Price'], axis = 1)"
   ]
  },
  {
   "cell_type": "code",
   "execution_count": 126,
   "metadata": {
    "ExecuteTime": {
     "end_time": "2020-07-23T16:51:12.572541Z",
     "start_time": "2020-07-23T16:51:12.569560Z"
    }
   },
   "outputs": [],
   "source": [
    "from sklearn.decomposition import PCA"
   ]
  },
  {
   "cell_type": "code",
   "execution_count": 127,
   "metadata": {
    "ExecuteTime": {
     "end_time": "2020-07-23T16:51:14.485298Z",
     "start_time": "2020-07-23T16:51:14.482954Z"
    }
   },
   "outputs": [],
   "source": [
    "pca = PCA(n_components=40, svd_solver='full')"
   ]
  },
  {
   "cell_type": "code",
   "execution_count": 128,
   "metadata": {
    "ExecuteTime": {
     "end_time": "2020-07-23T16:51:16.459119Z",
     "start_time": "2020-07-23T16:51:16.395482Z"
    }
   },
   "outputs": [
    {
     "data": {
      "text/plain": [
       "PCA(copy=True, iterated_power='auto', n_components=40, random_state=None,\n",
       "    svd_solver='full', tol=0.0, whiten=False)"
      ]
     },
     "execution_count": 128,
     "metadata": {},
     "output_type": "execute_result"
    }
   ],
   "source": [
    "pca.fit(df_X)"
   ]
  },
  {
   "cell_type": "code",
   "execution_count": 129,
   "metadata": {
    "ExecuteTime": {
     "end_time": "2020-07-23T16:51:18.364471Z",
     "start_time": "2020-07-23T16:51:18.343006Z"
    }
   },
   "outputs": [],
   "source": [
    "df_X = pca.transform(df_X)\n",
    "df_test = pca.transform(df_test)"
   ]
  },
  {
   "cell_type": "code",
   "execution_count": 130,
   "metadata": {
    "ExecuteTime": {
     "end_time": "2020-07-23T16:51:19.607121Z",
     "start_time": "2020-07-23T16:51:19.602901Z"
    }
   },
   "outputs": [],
   "source": [
    "from sklearn.model_selection import train_test_split"
   ]
  },
  {
   "cell_type": "code",
   "execution_count": 131,
   "metadata": {
    "ExecuteTime": {
     "end_time": "2020-07-23T16:51:20.865836Z",
     "start_time": "2020-07-23T16:51:20.857744Z"
    }
   },
   "outputs": [],
   "source": [
    "X_train, X_test, y_train, y_test = train_test_split(df_X, df_Y, test_size=0.05, random_state = 0)"
   ]
  },
  {
   "cell_type": "code",
   "execution_count": 132,
   "metadata": {
    "ExecuteTime": {
     "end_time": "2020-07-23T16:51:22.102471Z",
     "start_time": "2020-07-23T16:51:22.099065Z"
    }
   },
   "outputs": [],
   "source": [
    "import sklearn.metrics as metrics"
   ]
  },
  {
   "cell_type": "code",
   "execution_count": 133,
   "metadata": {
    "ExecuteTime": {
     "end_time": "2020-07-23T16:51:23.368769Z",
     "start_time": "2020-07-23T16:51:23.366468Z"
    }
   },
   "outputs": [],
   "source": [
    "from sklearn.tree import DecisionTreeRegressor"
   ]
  },
  {
   "cell_type": "code",
   "execution_count": 134,
   "metadata": {
    "ExecuteTime": {
     "end_time": "2020-07-23T16:51:24.604892Z",
     "start_time": "2020-07-23T16:51:24.601197Z"
    }
   },
   "outputs": [],
   "source": [
    "reg = DecisionTreeRegressor()"
   ]
  },
  {
   "cell_type": "code",
   "execution_count": 135,
   "metadata": {
    "ExecuteTime": {
     "end_time": "2020-07-23T16:51:26.375943Z",
     "start_time": "2020-07-23T16:51:25.984754Z"
    }
   },
   "outputs": [
    {
     "data": {
      "text/plain": [
       "DecisionTreeRegressor(ccp_alpha=0.0, criterion='mse', max_depth=None,\n",
       "                      max_features=None, max_leaf_nodes=None,\n",
       "                      min_impurity_decrease=0.0, min_impurity_split=None,\n",
       "                      min_samples_leaf=1, min_samples_split=2,\n",
       "                      min_weight_fraction_leaf=0.0, presort='deprecated',\n",
       "                      random_state=None, splitter='best')"
      ]
     },
     "execution_count": 135,
     "metadata": {},
     "output_type": "execute_result"
    }
   ],
   "source": [
    "reg.fit(X_train, y_train)"
   ]
  },
  {
   "cell_type": "code",
   "execution_count": 136,
   "metadata": {
    "ExecuteTime": {
     "end_time": "2020-07-23T16:51:27.817576Z",
     "start_time": "2020-07-23T16:51:27.813494Z"
    }
   },
   "outputs": [],
   "source": [
    "preds = reg.predict(X_test)"
   ]
  },
  {
   "cell_type": "code",
   "execution_count": 137,
   "metadata": {
    "ExecuteTime": {
     "end_time": "2020-07-23T16:51:29.177360Z",
     "start_time": "2020-07-23T16:51:29.171732Z"
    }
   },
   "outputs": [
    {
     "data": {
      "text/plain": [
       "0.7172267315297758"
      ]
     },
     "execution_count": 137,
     "metadata": {},
     "output_type": "execute_result"
    }
   ],
   "source": [
    "metrics.r2_score(y_test, preds)"
   ]
  },
  {
   "cell_type": "code",
   "execution_count": 138,
   "metadata": {
    "ExecuteTime": {
     "end_time": "2020-07-23T16:51:33.066559Z",
     "start_time": "2020-07-23T16:51:33.061285Z"
    }
   },
   "outputs": [],
   "source": [
    "submission_preds = reg.predict(df_test)"
   ]
  },
  {
   "cell_type": "code",
   "execution_count": 139,
   "metadata": {
    "ExecuteTime": {
     "end_time": "2020-07-23T16:51:38.933684Z",
     "start_time": "2020-07-23T16:51:38.918212Z"
    }
   },
   "outputs": [],
   "source": [
    "submission_tbl = pd.read_csv('Dataset/Test.csv')"
   ]
  },
  {
   "cell_type": "code",
   "execution_count": 140,
   "metadata": {
    "ExecuteTime": {
     "end_time": "2020-07-23T16:51:40.335260Z",
     "start_time": "2020-07-23T16:51:40.318431Z"
    }
   },
   "outputs": [
    {
     "data": {
      "text/html": [
       "<div>\n",
       "<style scoped>\n",
       "    .dataframe tbody tr th:only-of-type {\n",
       "        vertical-align: middle;\n",
       "    }\n",
       "\n",
       "    .dataframe tbody tr th {\n",
       "        vertical-align: top;\n",
       "    }\n",
       "\n",
       "    .dataframe thead th {\n",
       "        text-align: right;\n",
       "    }\n",
       "</style>\n",
       "<table border=\"1\" class=\"dataframe\">\n",
       "  <thead>\n",
       "    <tr style=\"text-align: right;\">\n",
       "      <th></th>\n",
       "      <th>Item_Id</th>\n",
       "      <th>Date</th>\n",
       "      <th>State_of_Country</th>\n",
       "      <th>Market_Category</th>\n",
       "      <th>Product_Category</th>\n",
       "      <th>Grade</th>\n",
       "      <th>Demand</th>\n",
       "      <th>High_Cap_Price</th>\n",
       "    </tr>\n",
       "  </thead>\n",
       "  <tbody>\n",
       "    <tr>\n",
       "      <th>0</th>\n",
       "      <td>IT_265079</td>\n",
       "      <td>2014-01-19</td>\n",
       "      <td>0</td>\n",
       "      <td>3</td>\n",
       "      <td>0</td>\n",
       "      <td>0</td>\n",
       "      <td>0.1</td>\n",
       "      <td>5303</td>\n",
       "    </tr>\n",
       "    <tr>\n",
       "      <th>1</th>\n",
       "      <td>IT_265087</td>\n",
       "      <td>2014-01-19</td>\n",
       "      <td>0</td>\n",
       "      <td>268</td>\n",
       "      <td>0</td>\n",
       "      <td>2</td>\n",
       "      <td>1.4</td>\n",
       "      <td>10492</td>\n",
       "    </tr>\n",
       "    <tr>\n",
       "      <th>2</th>\n",
       "      <td>IT_265107</td>\n",
       "      <td>2014-01-19</td>\n",
       "      <td>0</td>\n",
       "      <td>320</td>\n",
       "      <td>0</td>\n",
       "      <td>0</td>\n",
       "      <td>13.4</td>\n",
       "      <td>24706</td>\n",
       "    </tr>\n",
       "    <tr>\n",
       "      <th>3</th>\n",
       "      <td>IT_265139</td>\n",
       "      <td>2014-01-19</td>\n",
       "      <td>17</td>\n",
       "      <td>358</td>\n",
       "      <td>0</td>\n",
       "      <td>3</td>\n",
       "      <td>5.5</td>\n",
       "      <td>23464</td>\n",
       "    </tr>\n",
       "    <tr>\n",
       "      <th>4</th>\n",
       "      <td>IT_265142</td>\n",
       "      <td>2014-01-19</td>\n",
       "      <td>18</td>\n",
       "      <td>23</td>\n",
       "      <td>5</td>\n",
       "      <td>2</td>\n",
       "      <td>0.0</td>\n",
       "      <td>6222</td>\n",
       "    </tr>\n",
       "    <tr>\n",
       "      <th>...</th>\n",
       "      <td>...</td>\n",
       "      <td>...</td>\n",
       "      <td>...</td>\n",
       "      <td>...</td>\n",
       "      <td>...</td>\n",
       "      <td>...</td>\n",
       "      <td>...</td>\n",
       "      <td>...</td>\n",
       "    </tr>\n",
       "    <tr>\n",
       "      <th>5758</th>\n",
       "      <td>IT_361691</td>\n",
       "      <td>2015-09-29</td>\n",
       "      <td>21</td>\n",
       "      <td>375</td>\n",
       "      <td>10</td>\n",
       "      <td>0</td>\n",
       "      <td>3.4</td>\n",
       "      <td>10925</td>\n",
       "    </tr>\n",
       "    <tr>\n",
       "      <th>5759</th>\n",
       "      <td>IT_361694</td>\n",
       "      <td>2015-09-29</td>\n",
       "      <td>21</td>\n",
       "      <td>310</td>\n",
       "      <td>13</td>\n",
       "      <td>0</td>\n",
       "      <td>1.8</td>\n",
       "      <td>9089</td>\n",
       "    </tr>\n",
       "    <tr>\n",
       "      <th>5760</th>\n",
       "      <td>IT_361699</td>\n",
       "      <td>2015-09-29</td>\n",
       "      <td>21</td>\n",
       "      <td>445</td>\n",
       "      <td>10</td>\n",
       "      <td>0</td>\n",
       "      <td>0.2</td>\n",
       "      <td>9656</td>\n",
       "    </tr>\n",
       "    <tr>\n",
       "      <th>5761</th>\n",
       "      <td>IT_361719</td>\n",
       "      <td>2015-09-29</td>\n",
       "      <td>21</td>\n",
       "      <td>452</td>\n",
       "      <td>13</td>\n",
       "      <td>0</td>\n",
       "      <td>3.4</td>\n",
       "      <td>8070</td>\n",
       "    </tr>\n",
       "    <tr>\n",
       "      <th>5762</th>\n",
       "      <td>IT_361723</td>\n",
       "      <td>2015-09-29</td>\n",
       "      <td>21</td>\n",
       "      <td>360</td>\n",
       "      <td>10</td>\n",
       "      <td>0</td>\n",
       "      <td>1.4</td>\n",
       "      <td>11309</td>\n",
       "    </tr>\n",
       "  </tbody>\n",
       "</table>\n",
       "<p>5763 rows × 8 columns</p>\n",
       "</div>"
      ],
      "text/plain": [
       "        Item_Id        Date  State_of_Country  Market_Category  \\\n",
       "0     IT_265079  2014-01-19                 0                3   \n",
       "1     IT_265087  2014-01-19                 0              268   \n",
       "2     IT_265107  2014-01-19                 0              320   \n",
       "3     IT_265139  2014-01-19                17              358   \n",
       "4     IT_265142  2014-01-19                18               23   \n",
       "...         ...         ...               ...              ...   \n",
       "5758  IT_361691  2015-09-29                21              375   \n",
       "5759  IT_361694  2015-09-29                21              310   \n",
       "5760  IT_361699  2015-09-29                21              445   \n",
       "5761  IT_361719  2015-09-29                21              452   \n",
       "5762  IT_361723  2015-09-29                21              360   \n",
       "\n",
       "      Product_Category  Grade  Demand  High_Cap_Price  \n",
       "0                    0      0     0.1            5303  \n",
       "1                    0      2     1.4           10492  \n",
       "2                    0      0    13.4           24706  \n",
       "3                    0      3     5.5           23464  \n",
       "4                    5      2     0.0            6222  \n",
       "...                ...    ...     ...             ...  \n",
       "5758                10      0     3.4           10925  \n",
       "5759                13      0     1.8            9089  \n",
       "5760                10      0     0.2            9656  \n",
       "5761                13      0     3.4            8070  \n",
       "5762                10      0     1.4           11309  \n",
       "\n",
       "[5763 rows x 8 columns]"
      ]
     },
     "execution_count": 140,
     "metadata": {},
     "output_type": "execute_result"
    }
   ],
   "source": [
    "submission_tbl"
   ]
  },
  {
   "cell_type": "code",
   "execution_count": 141,
   "metadata": {
    "ExecuteTime": {
     "end_time": "2020-07-23T16:51:41.674078Z",
     "start_time": "2020-07-23T16:51:41.670502Z"
    }
   },
   "outputs": [
    {
     "data": {
      "text/plain": [
       "(5763,)"
      ]
     },
     "execution_count": 141,
     "metadata": {},
     "output_type": "execute_result"
    }
   ],
   "source": [
    "submission_preds.shape"
   ]
  },
  {
   "cell_type": "code",
   "execution_count": 142,
   "metadata": {
    "ExecuteTime": {
     "end_time": "2020-07-23T16:51:43.003756Z",
     "start_time": "2020-07-23T16:51:42.999486Z"
    }
   },
   "outputs": [],
   "source": [
    "submission = pd.DataFrame(submission_preds, index=submission_tbl.Item_Id.tolist()).reset_index()"
   ]
  },
  {
   "cell_type": "code",
   "execution_count": 143,
   "metadata": {
    "ExecuteTime": {
     "end_time": "2020-07-23T16:51:44.350280Z",
     "start_time": "2020-07-23T16:51:44.347836Z"
    }
   },
   "outputs": [],
   "source": [
    "submission.columns = ['Item_Id', 'Low_Cap_Price']"
   ]
  },
  {
   "cell_type": "code",
   "execution_count": 144,
   "metadata": {
    "ExecuteTime": {
     "end_time": "2020-07-23T16:51:45.690410Z",
     "start_time": "2020-07-23T16:51:45.681211Z"
    }
   },
   "outputs": [
    {
     "data": {
      "text/html": [
       "<div>\n",
       "<style scoped>\n",
       "    .dataframe tbody tr th:only-of-type {\n",
       "        vertical-align: middle;\n",
       "    }\n",
       "\n",
       "    .dataframe tbody tr th {\n",
       "        vertical-align: top;\n",
       "    }\n",
       "\n",
       "    .dataframe thead th {\n",
       "        text-align: right;\n",
       "    }\n",
       "</style>\n",
       "<table border=\"1\" class=\"dataframe\">\n",
       "  <thead>\n",
       "    <tr style=\"text-align: right;\">\n",
       "      <th></th>\n",
       "      <th>Item_Id</th>\n",
       "      <th>Low_Cap_Price</th>\n",
       "    </tr>\n",
       "  </thead>\n",
       "  <tbody>\n",
       "    <tr>\n",
       "      <th>0</th>\n",
       "      <td>IT_265079</td>\n",
       "      <td>1565.0</td>\n",
       "    </tr>\n",
       "    <tr>\n",
       "      <th>1</th>\n",
       "      <td>IT_265087</td>\n",
       "      <td>1229.0</td>\n",
       "    </tr>\n",
       "    <tr>\n",
       "      <th>2</th>\n",
       "      <td>IT_265107</td>\n",
       "      <td>2253.0</td>\n",
       "    </tr>\n",
       "    <tr>\n",
       "      <th>3</th>\n",
       "      <td>IT_265139</td>\n",
       "      <td>2093.0</td>\n",
       "    </tr>\n",
       "    <tr>\n",
       "      <th>4</th>\n",
       "      <td>IT_265142</td>\n",
       "      <td>3460.0</td>\n",
       "    </tr>\n",
       "    <tr>\n",
       "      <th>...</th>\n",
       "      <td>...</td>\n",
       "      <td>...</td>\n",
       "    </tr>\n",
       "    <tr>\n",
       "      <th>5758</th>\n",
       "      <td>IT_361691</td>\n",
       "      <td>5780.0</td>\n",
       "    </tr>\n",
       "    <tr>\n",
       "      <th>5759</th>\n",
       "      <td>IT_361694</td>\n",
       "      <td>4532.0</td>\n",
       "    </tr>\n",
       "    <tr>\n",
       "      <th>5760</th>\n",
       "      <td>IT_361699</td>\n",
       "      <td>4851.0</td>\n",
       "    </tr>\n",
       "    <tr>\n",
       "      <th>5761</th>\n",
       "      <td>IT_361719</td>\n",
       "      <td>2227.0</td>\n",
       "    </tr>\n",
       "    <tr>\n",
       "      <th>5762</th>\n",
       "      <td>IT_361723</td>\n",
       "      <td>5780.0</td>\n",
       "    </tr>\n",
       "  </tbody>\n",
       "</table>\n",
       "<p>5763 rows × 2 columns</p>\n",
       "</div>"
      ],
      "text/plain": [
       "        Item_Id  Low_Cap_Price\n",
       "0     IT_265079         1565.0\n",
       "1     IT_265087         1229.0\n",
       "2     IT_265107         2253.0\n",
       "3     IT_265139         2093.0\n",
       "4     IT_265142         3460.0\n",
       "...         ...            ...\n",
       "5758  IT_361691         5780.0\n",
       "5759  IT_361694         4532.0\n",
       "5760  IT_361699         4851.0\n",
       "5761  IT_361719         2227.0\n",
       "5762  IT_361723         5780.0\n",
       "\n",
       "[5763 rows x 2 columns]"
      ]
     },
     "execution_count": 144,
     "metadata": {},
     "output_type": "execute_result"
    }
   ],
   "source": [
    "submission"
   ]
  },
  {
   "cell_type": "code",
   "execution_count": 145,
   "metadata": {
    "ExecuteTime": {
     "end_time": "2020-07-23T16:51:47.081639Z",
     "start_time": "2020-07-23T16:51:47.062573Z"
    }
   },
   "outputs": [],
   "source": [
    "submission.to_csv('submission.csv', index=False)"
   ]
  },
  {
   "cell_type": "code",
   "execution_count": null,
   "metadata": {},
   "outputs": [],
   "source": []
  }
 ],
 "metadata": {
  "kernelspec": {
   "display_name": "Python 3",
   "language": "python",
   "name": "python3"
  },
  "varInspector": {
   "cols": {
    "lenName": 16,
    "lenType": 16,
    "lenVar": 40
   },
   "kernels_config": {
    "python": {
     "delete_cmd_postfix": "",
     "delete_cmd_prefix": "del ",
     "library": "var_list.py",
     "varRefreshCmd": "print(var_dic_list())"
    },
    "r": {
     "delete_cmd_postfix": ") ",
     "delete_cmd_prefix": "rm(",
     "library": "var_list.r",
     "varRefreshCmd": "cat(var_dic_list()) "
    }
   },
   "types_to_exclude": [
    "module",
    "function",
    "builtin_function_or_method",
    "instance",
    "_Feature"
   ],
   "window_display": false
  }
 },
 "nbformat": 4,
 "nbformat_minor": 4
}
