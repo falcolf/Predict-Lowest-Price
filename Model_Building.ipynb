{
 "cells": [
  {
   "cell_type": "code",
   "execution_count": 1,
   "metadata": {
    "ExecuteTime": {
     "end_time": "2020-07-25T16:58:25.421052Z",
     "start_time": "2020-07-25T16:58:23.311864Z"
    }
   },
   "outputs": [],
   "source": [
    "import pandas as pd\n",
    "import numpy as np\n",
    "import matplotlib.pyplot as plt\n",
    "import seaborn as sns\n",
    "import missingno as msno\n",
    "import pandas_profiling\n",
    "from sklearn.preprocessing import OneHotEncoder"
   ]
  },
  {
   "cell_type": "code",
   "execution_count": 2,
   "metadata": {
    "ExecuteTime": {
     "end_time": "2020-07-25T16:58:25.456863Z",
     "start_time": "2020-07-25T16:58:25.424659Z"
    }
   },
   "outputs": [],
   "source": [
    "df = pd.read_csv('Dataset/Train.csv')\n",
    "df_test = pd.read_csv('Dataset/Test.csv')"
   ]
  },
  {
   "cell_type": "code",
   "execution_count": 3,
   "metadata": {
    "ExecuteTime": {
     "end_time": "2020-07-25T16:58:25.469466Z",
     "start_time": "2020-07-25T16:58:25.462512Z"
    }
   },
   "outputs": [
    {
     "data": {
      "text/plain": [
       "(5763, 8)"
      ]
     },
     "execution_count": 3,
     "metadata": {},
     "output_type": "execute_result"
    }
   ],
   "source": [
    "df_test.shape"
   ]
  },
  {
   "cell_type": "code",
   "execution_count": 4,
   "metadata": {
    "ExecuteTime": {
     "end_time": "2020-07-25T16:58:25.491587Z",
     "start_time": "2020-07-25T16:58:25.472907Z"
    }
   },
   "outputs": [],
   "source": [
    "df.drop(['Item_Id'], axis= 1, inplace=True)\n",
    "df_test.drop(['Item_Id'], axis= 1, inplace=True)"
   ]
  },
  {
   "cell_type": "code",
   "execution_count": 5,
   "metadata": {
    "ExecuteTime": {
     "end_time": "2020-07-25T16:58:25.516443Z",
     "start_time": "2020-07-25T16:58:25.494626Z"
    }
   },
   "outputs": [],
   "source": [
    "df['Year'] = pd.to_datetime(df.Date).dt.year\n",
    "df_test['Year'] = pd.to_datetime(df_test.Date).dt.year"
   ]
  },
  {
   "cell_type": "code",
   "execution_count": 6,
   "metadata": {
    "ExecuteTime": {
     "end_time": "2020-07-25T16:58:25.529329Z",
     "start_time": "2020-07-25T16:58:25.519745Z"
    }
   },
   "outputs": [],
   "source": [
    "df.drop(['Date'], axis= 1, inplace=True)\n",
    "df_test.drop(['Date'], axis= 1, inplace=True)"
   ]
  },
  {
   "cell_type": "code",
   "execution_count": 7,
   "metadata": {
    "ExecuteTime": {
     "end_time": "2020-07-25T16:58:25.561170Z",
     "start_time": "2020-07-25T16:58:25.536209Z"
    }
   },
   "outputs": [],
   "source": [
    "top_mktcat = df.Market_Category.value_counts()[:50]\n",
    "\n",
    "df['Market_Category_Updated'] = df['Market_Category'].apply(lambda x: str(x) if x in top_mktcat else 'others')\n",
    "df_test['Market_Category_Updated'] = df_test['Market_Category'].apply(lambda x: str(x) if x in top_mktcat else 'others')"
   ]
  },
  {
   "cell_type": "code",
   "execution_count": 8,
   "metadata": {
    "ExecuteTime": {
     "end_time": "2020-07-25T16:58:25.602580Z",
     "start_time": "2020-07-25T16:58:25.564334Z"
    }
   },
   "outputs": [],
   "source": [
    "df.State_of_Country = df.State_of_Country.astype(str)#.astype('category')\n",
    "df.Market_Category = df.Market_Category.astype(str)#.astype('category')\n",
    "df.Product_Category = df.Product_Category.astype(str)#.astype('category')\n",
    "\n",
    "df_test.State_of_Country = df_test.State_of_Country.astype(str)#.astype('category')\n",
    "df_test.Market_Category = df_test.Market_Category.astype(str)#.astype('category')\n",
    "df_test.Product_Category = df_test.Product_Category.astype(str)#.astype('category')"
   ]
  },
  {
   "cell_type": "code",
   "execution_count": 9,
   "metadata": {
    "ExecuteTime": {
     "end_time": "2020-07-25T16:58:25.614904Z",
     "start_time": "2020-07-25T16:58:25.605157Z"
    }
   },
   "outputs": [],
   "source": [
    "df['Demand_Log'] = np.log(df['Demand']+1)\n",
    "df_test['Demand_Log'] = np.log(df_test['Demand']+1)"
   ]
  },
  {
   "cell_type": "code",
   "execution_count": 10,
   "metadata": {
    "ExecuteTime": {
     "end_time": "2020-07-25T16:58:25.630310Z",
     "start_time": "2020-07-25T16:58:25.617085Z"
    }
   },
   "outputs": [],
   "source": [
    "df.drop(['Market_Category', 'Demand'], inplace=True, axis=1)\n",
    "df_test.drop(['Market_Category', 'Demand'], inplace=True, axis=1)"
   ]
  },
  {
   "cell_type": "code",
   "execution_count": 11,
   "metadata": {
    "ExecuteTime": {
     "end_time": "2020-07-25T16:58:25.640184Z",
     "start_time": "2020-07-25T16:58:25.632511Z"
    }
   },
   "outputs": [
    {
     "data": {
      "text/plain": [
       "State_of_Country            object\n",
       "Product_Category            object\n",
       "Grade                        int64\n",
       "Low_Cap_Price                int64\n",
       "High_Cap_Price               int64\n",
       "Year                         int64\n",
       "Market_Category_Updated     object\n",
       "Demand_Log                 float64\n",
       "dtype: object"
      ]
     },
     "execution_count": 11,
     "metadata": {},
     "output_type": "execute_result"
    }
   ],
   "source": [
    "df.dtypes"
   ]
  },
  {
   "cell_type": "code",
   "execution_count": 12,
   "metadata": {
    "ExecuteTime": {
     "end_time": "2020-07-25T16:58:25.652612Z",
     "start_time": "2020-07-25T16:58:25.642985Z"
    }
   },
   "outputs": [
    {
     "data": {
      "text/plain": [
       "State_of_Country            object\n",
       "Product_Category            object\n",
       "Grade                        int64\n",
       "High_Cap_Price               int64\n",
       "Year                         int64\n",
       "Market_Category_Updated     object\n",
       "Demand_Log                 float64\n",
       "dtype: object"
      ]
     },
     "execution_count": 12,
     "metadata": {},
     "output_type": "execute_result"
    }
   ],
   "source": [
    "df_test.dtypes"
   ]
  },
  {
   "cell_type": "code",
   "execution_count": 13,
   "metadata": {
    "ExecuteTime": {
     "end_time": "2020-07-25T16:58:25.658730Z",
     "start_time": "2020-07-25T16:58:25.654613Z"
    }
   },
   "outputs": [],
   "source": [
    "categorical = ['State_of_Country', 'Product_Category', 'Market_Category_Updated']"
   ]
  },
  {
   "cell_type": "code",
   "execution_count": 14,
   "metadata": {
    "ExecuteTime": {
     "end_time": "2020-07-25T16:58:25.719480Z",
     "start_time": "2020-07-25T16:58:25.661715Z"
    }
   },
   "outputs": [],
   "source": [
    "for col in categorical:\n",
    "    i = df.columns.tolist().index(col)\n",
    "    enc = OneHotEncoder(categories='auto', sparse = False, handle_unknown='ignore').fit(df.iloc[:,[i]])\n",
    "    \n",
    "    temp = pd.DataFrame(enc.transform(df.iloc[:,[i]]))\n",
    "    df = pd.concat([df, temp], axis = 1)\n",
    "    \n",
    "    i_test = df_test.columns.tolist().index(col)\n",
    "    temp = pd.DataFrame(enc.transform(df_test.iloc[:,[i_test]]))\n",
    "    df_test = pd.concat([df_test, temp], axis = 1)"
   ]
  },
  {
   "cell_type": "code",
   "execution_count": 15,
   "metadata": {
    "ExecuteTime": {
     "end_time": "2020-07-25T16:58:25.747762Z",
     "start_time": "2020-07-25T16:58:25.721539Z"
    }
   },
   "outputs": [],
   "source": [
    "df.drop(['State_of_Country', 'Product_Category', 'Market_Category_Updated'], inplace=True, axis=1)\n",
    "df_test.drop(['State_of_Country', 'Product_Category', 'Market_Category_Updated'], inplace=True, axis=1)"
   ]
  },
  {
   "cell_type": "code",
   "execution_count": 16,
   "metadata": {
    "ExecuteTime": {
     "end_time": "2020-07-25T16:58:25.763331Z",
     "start_time": "2020-07-25T16:58:25.750321Z"
    }
   },
   "outputs": [],
   "source": [
    "df_Y = df.loc[:,'Low_Cap_Price'].copy()\n",
    "df_X = df.drop(['Low_Cap_Price'], axis = 1)"
   ]
  },
  {
   "cell_type": "code",
   "execution_count": 17,
   "metadata": {
    "ExecuteTime": {
     "end_time": "2020-07-25T16:58:25.931408Z",
     "start_time": "2020-07-25T16:58:25.765312Z"
    }
   },
   "outputs": [],
   "source": [
    "from sklearn.decomposition import PCA"
   ]
  },
  {
   "cell_type": "code",
   "execution_count": 18,
   "metadata": {
    "ExecuteTime": {
     "end_time": "2020-07-25T16:58:25.941084Z",
     "start_time": "2020-07-25T16:58:25.933952Z"
    }
   },
   "outputs": [],
   "source": [
    "pca = PCA(n_components=30, svd_solver='full')"
   ]
  },
  {
   "cell_type": "code",
   "execution_count": 19,
   "metadata": {
    "ExecuteTime": {
     "end_time": "2020-07-25T16:58:26.064180Z",
     "start_time": "2020-07-25T16:58:25.945748Z"
    }
   },
   "outputs": [
    {
     "data": {
      "text/plain": [
       "PCA(copy=True, iterated_power='auto', n_components=30, random_state=None,\n",
       "    svd_solver='full', tol=0.0, whiten=False)"
      ]
     },
     "execution_count": 19,
     "metadata": {},
     "output_type": "execute_result"
    }
   ],
   "source": [
    "pca.fit(df_X)"
   ]
  },
  {
   "cell_type": "code",
   "execution_count": 20,
   "metadata": {
    "ExecuteTime": {
     "end_time": "2020-07-25T16:58:26.098317Z",
     "start_time": "2020-07-25T16:58:26.069278Z"
    }
   },
   "outputs": [],
   "source": [
    "df_X = pca.transform(df_X)\n",
    "df_test = pca.transform(df_test)"
   ]
  },
  {
   "cell_type": "code",
   "execution_count": 21,
   "metadata": {
    "ExecuteTime": {
     "end_time": "2020-07-25T16:58:26.106102Z",
     "start_time": "2020-07-25T16:58:26.101438Z"
    }
   },
   "outputs": [],
   "source": [
    "from sklearn.model_selection import train_test_split"
   ]
  },
  {
   "cell_type": "code",
   "execution_count": 22,
   "metadata": {
    "ExecuteTime": {
     "end_time": "2020-07-25T16:58:26.127394Z",
     "start_time": "2020-07-25T16:58:26.120074Z"
    }
   },
   "outputs": [],
   "source": [
    "X_train, X_test, y_train, y_test = train_test_split(df_X, df_Y, test_size=0.25, random_state = 0)"
   ]
  },
  {
   "cell_type": "code",
   "execution_count": 23,
   "metadata": {
    "ExecuteTime": {
     "end_time": "2020-07-25T16:58:26.138201Z",
     "start_time": "2020-07-25T16:58:26.135697Z"
    }
   },
   "outputs": [],
   "source": [
    "import sklearn.metrics as metrics"
   ]
  },
  {
   "cell_type": "code",
   "execution_count": 24,
   "metadata": {
    "ExecuteTime": {
     "end_time": "2020-07-25T16:58:26.180995Z",
     "start_time": "2020-07-25T16:58:26.142318Z"
    }
   },
   "outputs": [],
   "source": [
    "from sklearn.tree import DecisionTreeRegressor"
   ]
  },
  {
   "cell_type": "code",
   "execution_count": 25,
   "metadata": {
    "ExecuteTime": {
     "end_time": "2020-07-25T16:58:26.189420Z",
     "start_time": "2020-07-25T16:58:26.183260Z"
    }
   },
   "outputs": [],
   "source": [
    "def check_model(reg, X_train, y_train, X_test, y_test):\n",
    "    reg.fit(X_train, y_train)\n",
    "    preds = reg.predict(X_test)\n",
    "    print(metrics.r2_score(y_test, preds))"
   ]
  },
  {
   "cell_type": "code",
   "execution_count": 26,
   "metadata": {
    "ExecuteTime": {
     "end_time": "2020-07-25T16:58:26.655336Z",
     "start_time": "2020-07-25T16:58:26.192272Z"
    }
   },
   "outputs": [
    {
     "name": "stdout",
     "output_type": "stream",
     "text": [
      "0.71422259594359\n"
     ]
    }
   ],
   "source": [
    "dt_reg = DecisionTreeRegressor()\n",
    "dt_reg.fit(X_train, y_train)\n",
    "check_model(dt_reg, X_train, y_train, X_test, y_test)"
   ]
  },
  {
   "cell_type": "code",
   "execution_count": 27,
   "metadata": {
    "ExecuteTime": {
     "end_time": "2020-07-25T16:58:26.663253Z",
     "start_time": "2020-07-25T16:58:26.657917Z"
    }
   },
   "outputs": [],
   "source": [
    "from sklearn.linear_model import Ridge"
   ]
  },
  {
   "cell_type": "code",
   "execution_count": 28,
   "metadata": {
    "ExecuteTime": {
     "end_time": "2020-07-25T16:58:26.680948Z",
     "start_time": "2020-07-25T16:58:26.665992Z"
    }
   },
   "outputs": [
    {
     "name": "stdout",
     "output_type": "stream",
     "text": [
      "0.6698649010035114\n"
     ]
    }
   ],
   "source": [
    "ridge_reg = Ridge()\n",
    "check_model(ridge_reg, X_train, y_train, X_test, y_test)"
   ]
  },
  {
   "cell_type": "code",
   "execution_count": 29,
   "metadata": {
    "ExecuteTime": {
     "end_time": "2020-07-25T16:58:26.690412Z",
     "start_time": "2020-07-25T16:58:26.685421Z"
    }
   },
   "outputs": [],
   "source": [
    "from sklearn.linear_model import Lasso"
   ]
  },
  {
   "cell_type": "code",
   "execution_count": 30,
   "metadata": {
    "ExecuteTime": {
     "end_time": "2020-07-25T16:58:26.707094Z",
     "start_time": "2020-07-25T16:58:26.693428Z"
    }
   },
   "outputs": [
    {
     "name": "stdout",
     "output_type": "stream",
     "text": [
      "0.6699340428751426\n"
     ]
    }
   ],
   "source": [
    "lasso_reg = Lasso()\n",
    "check_model(lasso_reg, X_train, y_train, X_test, y_test)"
   ]
  },
  {
   "cell_type": "code",
   "execution_count": 31,
   "metadata": {
    "ExecuteTime": {
     "end_time": "2020-07-25T16:58:30.620113Z",
     "start_time": "2020-07-25T16:58:26.709779Z"
    }
   },
   "outputs": [
    {
     "name": "stdout",
     "output_type": "stream",
     "text": [
      "0.3323126587879843\n"
     ]
    }
   ],
   "source": [
    "from sklearn.svm import SVR\n",
    "svr_reg = SVR()\n",
    "check_model(svr_reg, X_train, y_train, X_test, y_test)"
   ]
  },
  {
   "cell_type": "code",
   "execution_count": 32,
   "metadata": {
    "ExecuteTime": {
     "end_time": "2020-07-25T16:58:30.625702Z",
     "start_time": "2020-07-25T16:58:30.622284Z"
    }
   },
   "outputs": [],
   "source": [
    "from sklearn.model_selection import cross_val_score"
   ]
  },
  {
   "cell_type": "code",
   "execution_count": 33,
   "metadata": {
    "ExecuteTime": {
     "end_time": "2020-07-25T16:58:33.427493Z",
     "start_time": "2020-07-25T16:58:30.629891Z"
    }
   },
   "outputs": [
    {
     "data": {
      "text/plain": [
       "0.4870788253517541"
      ]
     },
     "execution_count": 33,
     "metadata": {},
     "output_type": "execute_result"
    }
   ],
   "source": [
    "cv = cross_val_score(dt_reg, df_X, df_Y, cv=10)\n",
    "cv.mean()"
   ]
  },
  {
   "cell_type": "code",
   "execution_count": 34,
   "metadata": {
    "ExecuteTime": {
     "end_time": "2020-07-25T16:58:33.485660Z",
     "start_time": "2020-07-25T16:58:33.429718Z"
    }
   },
   "outputs": [
    {
     "data": {
      "text/plain": [
       "0.5928947725766527"
      ]
     },
     "execution_count": 34,
     "metadata": {},
     "output_type": "execute_result"
    }
   ],
   "source": [
    "cv = cross_val_score(ridge_reg, df_X, df_Y, cv=10)\n",
    "cv.mean()"
   ]
  },
  {
   "cell_type": "code",
   "execution_count": 35,
   "metadata": {
    "ExecuteTime": {
     "end_time": "2020-07-25T16:58:33.552341Z",
     "start_time": "2020-07-25T16:58:33.487815Z"
    }
   },
   "outputs": [
    {
     "data": {
      "text/plain": [
       "0.5944992640004457"
      ]
     },
     "execution_count": 35,
     "metadata": {},
     "output_type": "execute_result"
    }
   ],
   "source": [
    "cv = cross_val_score(lasso_reg, df_X, df_Y, cv=10)\n",
    "cv.mean()"
   ]
  },
  {
   "cell_type": "code",
   "execution_count": 36,
   "metadata": {
    "ExecuteTime": {
     "end_time": "2020-07-25T16:59:18.910786Z",
     "start_time": "2020-07-25T16:58:33.554281Z"
    }
   },
   "outputs": [
    {
     "data": {
      "text/plain": [
       "0.19027957326930683"
      ]
     },
     "execution_count": 36,
     "metadata": {},
     "output_type": "execute_result"
    }
   ],
   "source": [
    "cv = cross_val_score(svr_reg, df_X, df_Y, cv=10)\n",
    "cv.mean()"
   ]
  },
  {
   "cell_type": "code",
   "execution_count": 52,
   "metadata": {
    "ExecuteTime": {
     "end_time": "2020-07-25T17:05:15.184600Z",
     "start_time": "2020-07-25T17:05:15.178751Z"
    }
   },
   "outputs": [],
   "source": [
    "def get_submission(reg, df_X, df_y, df_test, filename):\n",
    "    reg.fit(df_X, df_y)\n",
    "    submission_preds = reg.predict(df_test)\n",
    "    submission_preds = np.around(submission_preds, decimals = 0)\n",
    "    submission_tbl = pd.read_csv('Dataset/Test.csv')\n",
    "    submission = pd.DataFrame(submission_preds, index=submission_tbl.Item_Id.tolist()).reset_index()\n",
    "    submission.columns = ['Item_Id', 'Low_Cap_Price']\n",
    "    submission.to_csv(filename, index=False)"
   ]
  },
  {
   "cell_type": "code",
   "execution_count": 53,
   "metadata": {
    "ExecuteTime": {
     "end_time": "2020-07-25T17:05:16.074454Z",
     "start_time": "2020-07-25T17:05:15.741002Z"
    }
   },
   "outputs": [],
   "source": [
    "get_submission(DecisionTreeRegressor(), df_X, df_Y, df_test, 'dt_submission.csv')"
   ]
  },
  {
   "cell_type": "code",
   "execution_count": 54,
   "metadata": {
    "ExecuteTime": {
     "end_time": "2020-07-25T17:05:16.644458Z",
     "start_time": "2020-07-25T17:05:16.608460Z"
    }
   },
   "outputs": [],
   "source": [
    "get_submission(Ridge(), df_X, df_Y, df_test, 'ridge_submission.csv')"
   ]
  },
  {
   "cell_type": "code",
   "execution_count": 55,
   "metadata": {
    "ExecuteTime": {
     "end_time": "2020-07-25T17:05:17.237525Z",
     "start_time": "2020-07-25T17:05:17.196149Z"
    }
   },
   "outputs": [],
   "source": [
    "get_submission(Lasso(), df_X, df_Y,df_test, 'lasso_submission.csv')"
   ]
  },
  {
   "cell_type": "code",
   "execution_count": 56,
   "metadata": {
    "ExecuteTime": {
     "end_time": "2020-07-25T17:05:25.972874Z",
     "start_time": "2020-07-25T17:05:17.809051Z"
    }
   },
   "outputs": [],
   "source": [
    "get_submission(SVR(), df_X, df_Y, df_test, 'svr_submission.csv')"
   ]
  },
  {
   "cell_type": "code",
   "execution_count": null,
   "metadata": {},
   "outputs": [],
   "source": []
  }
 ],
 "metadata": {
  "kernelspec": {
   "display_name": "Python 3",
   "language": "python",
   "name": "python3"
  },
  "language_info": {
   "codemirror_mode": {
    "name": "ipython",
    "version": 3
   },
   "file_extension": ".py",
   "mimetype": "text/x-python",
   "name": "python",
   "nbconvert_exporter": "python",
   "pygments_lexer": "ipython3",
   "version": "3.7.7"
  },
  "varInspector": {
   "cols": {
    "lenName": 16,
    "lenType": 16,
    "lenVar": 40
   },
   "kernels_config": {
    "python": {
     "delete_cmd_postfix": "",
     "delete_cmd_prefix": "del ",
     "library": "var_list.py",
     "varRefreshCmd": "print(var_dic_list())"
    },
    "r": {
     "delete_cmd_postfix": ") ",
     "delete_cmd_prefix": "rm(",
     "library": "var_list.r",
     "varRefreshCmd": "cat(var_dic_list()) "
    }
   },
   "types_to_exclude": [
    "module",
    "function",
    "builtin_function_or_method",
    "instance",
    "_Feature"
   ],
   "window_display": false
  }
 },
 "nbformat": 4,
 "nbformat_minor": 4
}
